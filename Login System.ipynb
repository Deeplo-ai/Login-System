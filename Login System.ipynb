{
 "cells": [
  {
   "cell_type": "code",
   "execution_count": null,
   "metadata": {},
   "outputs": [],
   "source": []
  },
  {
   "cell_type": "code",
   "execution_count": null,
   "metadata": {},
   "outputs": [],
   "source": [
    "  #  LOGIN SYSTEM \n",
    "\n",
    "users_credential = {}\n",
    "# Start with a home page . E.g. Hello there! This is my lovely homepage.\n",
    "\n",
    "def home_page():\n",
    "    print(\"Welcome to homepage dear Guest, The page is awesome isn't it? \")\n",
    "    \n",
    "# Do you have an account ? Yes or No If yes: Sign in If no: Sign up.\n",
    "def have_an_account():\n",
    "    answer = input(\"Do you have an account? 'Yes' or 'no'? \").lower()\n",
    "    if answer == \"yes\":\n",
    "        return sign_in()\n",
    "    if answer == \"no\":\n",
    "        return sign_up()\n",
    "    else:\n",
    "        print(\"Please just type 'yes' or 'no'\")\n",
    "\n",
    "# # Sign Up section\n",
    "# Set a user name (should be unique)\n",
    "# Set a password\n",
    "# ask a confirmation\n",
    "# If passwords match and username is unique then\n",
    "# Store this information to log in next time.\n",
    "\n",
    "def sign_up():\n",
    "    print(\"This is sign up page, you can create new account for yourself.\")\n",
    "    username = input(\"Pick a username: \")\n",
    "    while username != users_credential.keys():\n",
    "        password = input(\"Set a password: \")\n",
    "        confirm_password = input(\"Confirm your password: \")\n",
    "        if password != confirm_password:\n",
    "            print(\"Your passwords does not match. Please try again\")\n",
    "        else:\n",
    "            users_credential[username] = password\n",
    "            sign_in()\n",
    "            break\n",
    "\n",
    "# # Sign in section\n",
    "# What is your username? \n",
    "# What is your password?\n",
    "# If username and pasword match then you can log in.\n",
    "# **Note:** If person can't login, do not let him to see your home page. \n",
    "\n",
    "def sign_in():\n",
    "    print(\"Welcome back to the site. Please sign in!\")\n",
    "    username = input(\"Usermame: \").strip()\n",
    "    password = input(\"Password: \")\n",
    "    if users_credential[username] == password:\n",
    "        home_page()        \n",
    "    else:\n",
    "        sign_up_request = input(\" The credentials does not match. \\n If you don't have an account, Would you like to sign up? 'Yes' or 'no' \").lower()\n",
    "        if sign_up_request == 'yes':\n",
    "            return sign_up()\n",
    "        if sign_up_request == \"no\":\n",
    "            return sign_in()\n",
    "        else:\n",
    "            print(\"Please just type 'yes' or 'no'\")\n",
    "                        \n",
    "            \n",
    "if __name__ == \"__main__\":\n",
    "    have_an_account()\n",
    "\n"
   ]
  },
  {
   "cell_type": "code",
   "execution_count": null,
   "metadata": {},
   "outputs": [],
   "source": []
  },
  {
   "cell_type": "code",
   "execution_count": null,
   "metadata": {},
   "outputs": [],
   "source": []
  },
  {
   "cell_type": "code",
   "execution_count": null,
   "metadata": {},
   "outputs": [],
   "source": []
  }
 ],
 "metadata": {
  "kernelspec": {
   "display_name": "Python 3",
   "language": "python",
   "name": "python3"
  },
  "language_info": {
   "codemirror_mode": {
    "name": "ipython",
    "version": 3
   },
   "file_extension": ".py",
   "mimetype": "text/x-python",
   "name": "python",
   "nbconvert_exporter": "python",
   "pygments_lexer": "ipython3",
   "version": "3.7.3"
  }
 },
 "nbformat": 4,
 "nbformat_minor": 2
}
